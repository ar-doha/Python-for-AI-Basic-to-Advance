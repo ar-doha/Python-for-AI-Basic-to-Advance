{
 "cells": [
  {
   "cell_type": "markdown",
   "id": "d199ab69",
   "metadata": {},
   "source": [
    "# List"
   ]
  },
  {
   "cell_type": "markdown",
   "id": "3580d5c2",
   "metadata": {},
   "source": [
    "### append()\n",
    "The `append()` method is used to add an element to the end of a list."
   ]
  },
  {
   "cell_type": "code",
   "execution_count": 2,
   "id": "c055ef86",
   "metadata": {},
   "outputs": [
    {
     "name": "stdout",
     "output_type": "stream",
     "text": [
      "['apple', 'banana', 'orange', 'mango']\n"
     ]
    }
   ],
   "source": [
    "fruits = [\"apple\", \"banana\", \"orange\"] \n",
    "fruits.append(\"mango\") \n",
    "print(fruits)"
   ]
  },
  {
   "cell_type": "markdown",
   "id": "f7e0969e",
   "metadata": {},
   "source": [
    "### copy()\n",
    "The `copy()` method is used to create a shallow copy of a list."
   ]
  },
  {
   "cell_type": "code",
   "execution_count": 7,
   "id": "a00fc423",
   "metadata": {},
   "outputs": [
    {
     "name": "stdout",
     "output_type": "stream",
     "text": [
      "[1, 2, 3, 4, 5]\n"
     ]
    }
   ],
   "source": [
    "my_list = [1, 2, 3, 4, 5] \n",
    "new_list = my_list.copy() \n",
    "print(new_list) "
   ]
  },
  {
   "cell_type": "markdown",
   "id": "4ef13bf8",
   "metadata": {},
   "source": [
    "### count()\n",
    "The `count()` method is used to count the number of occurrences of a specific element in a list in Python."
   ]
  },
  {
   "cell_type": "code",
   "execution_count": 6,
   "id": "afc9fe7f",
   "metadata": {},
   "outputs": [
    {
     "name": "stdout",
     "output_type": "stream",
     "text": [
      "4\n"
     ]
    }
   ],
   "source": [
    "my_list = [1, 2, 2, 3, 4, 2, 5, 2] \n",
    "count = my_list.count(2) \n",
    "print(count) "
   ]
  },
  {
   "cell_type": "markdown",
   "id": "8f1b9877",
   "metadata": {},
   "source": [
    "### Creating a list\n",
    "A list is a built-in data type that represents an ordered and mutable collection of elements. Lists are enclosed in square brackets [] and elements are separated by commas."
   ]
  },
  {
   "cell_type": "code",
   "execution_count": 8,
   "id": "0c8cc4f0",
   "metadata": {},
   "outputs": [
    {
     "data": {
      "text/plain": [
       "['apple', 'banana', 'orange', 'mango']"
      ]
     },
     "execution_count": 8,
     "metadata": {},
     "output_type": "execute_result"
    }
   ],
   "source": [
    "fruits = [\"apple\", \"banana\", \"orange\", \"mango\"]\n",
    "fruits"
   ]
  },
  {
   "cell_type": "markdown",
   "id": "2c7751fc",
   "metadata": {},
   "source": [
    "### del\n",
    "The `del` statement is used to remove an element from list. `del` statement removes the element at the specified index."
   ]
  },
  {
   "cell_type": "code",
   "execution_count": 10,
   "id": "144f01ed",
   "metadata": {},
   "outputs": [
    {
     "data": {
      "text/plain": [
       "[10, 20, 40, 50]"
      ]
     },
     "execution_count": 10,
     "metadata": {},
     "output_type": "execute_result"
    }
   ],
   "source": [
    "my_list = [10, 20, 30, 40, 50] \n",
    "del my_list[2] # Removes the element at index 2 print(my_list) \n",
    "my_list"
   ]
  },
  {
   "cell_type": "markdown",
   "id": "f9356088",
   "metadata": {},
   "source": [
    "### extend()\n",
    "The `extend()` method is used to add multiple elements to a list. It takes an iterable (such as another list, tuple, or string) and appends each element of the iterable to the original list."
   ]
  },
  {
   "cell_type": "code",
   "execution_count": 11,
   "id": "0e41260b",
   "metadata": {},
   "outputs": [
    {
     "name": "stdout",
     "output_type": "stream",
     "text": [
      "['apple', 'banana', 'orange', 'mango', 'grape']\n"
     ]
    }
   ],
   "source": [
    "fruits = [\"apple\", \"banana\", \"orange\"] \n",
    "more_fruits = [\"mango\", \"grape\"] \n",
    "fruits.extend(more_fruits) \n",
    "print(fruits)"
   ]
  },
  {
   "cell_type": "markdown",
   "id": "f1bab6f9",
   "metadata": {},
   "source": [
    "### Indexing\n",
    "Indexing in a list allows you to access individual elements by their position. In Python, indexing starts from 0 for the first element and goes up to `length_of_list - 1`."
   ]
  },
  {
   "cell_type": "markdown",
   "id": "2542fcb2",
   "metadata": {},
   "source": [
    "### insert()\n",
    "The `insert()` method is used to insert an element."
   ]
  },
  {
   "cell_type": "code",
   "execution_count": 12,
   "id": "6704ce4f",
   "metadata": {},
   "outputs": [
    {
     "name": "stdout",
     "output_type": "stream",
     "text": [
      "[1, 2, 6, 3, 4, 5]\n"
     ]
    }
   ],
   "source": [
    "my_list = [1, 2, 3, 4, 5] \n",
    "my_list.insert(2, 6) \n",
    "print(my_list)"
   ]
  },
  {
   "cell_type": "markdown",
   "id": "ec7c7961",
   "metadata": {},
   "source": [
    "### Modifying a list\n",
    "You can use indexing to modify or assign new values to specific elements in the list."
   ]
  },
  {
   "cell_type": "code",
   "execution_count": 13,
   "id": "4a097655",
   "metadata": {},
   "outputs": [
    {
     "name": "stdout",
     "output_type": "stream",
     "text": [
      "[10, 25, 30, 40, 50]\n"
     ]
    }
   ],
   "source": [
    "my_list = [10, 20, 30, 40, 50] \n",
    "my_list[1] = 25 # Modifying the second element \n",
    "print(my_list) "
   ]
  },
  {
   "cell_type": "code",
   "execution_count": null,
   "id": "66d93490",
   "metadata": {},
   "outputs": [],
   "source": []
  }
 ],
 "metadata": {
  "kernelspec": {
   "display_name": ".venv",
   "language": "python",
   "name": "python3"
  },
  "language_info": {
   "codemirror_mode": {
    "name": "ipython",
    "version": 3
   },
   "file_extension": ".py",
   "mimetype": "text/x-python",
   "name": "python",
   "nbconvert_exporter": "python",
   "pygments_lexer": "ipython3",
   "version": "3.13.5"
  }
 },
 "nbformat": 4,
 "nbformat_minor": 5
}
