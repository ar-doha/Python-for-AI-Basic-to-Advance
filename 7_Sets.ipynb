{
 "cells": [
  {
   "cell_type": "markdown",
   "id": "a5155b46",
   "metadata": {},
   "source": [
    "# Sets in Python\n",
    "A set is a unique collection of objects in Python. You can denote a set with a pair of curly brackets {}. Python will automatically remove duplicate items:"
   ]
  },
  {
   "cell_type": "code",
   "execution_count": 1,
   "id": "6c834828",
   "metadata": {},
   "outputs": [
    {
     "data": {
      "text/plain": [
       "{'R&B', 'disco', 'hard rock', 'pop', 'rock', 'soul'}"
      ]
     },
     "execution_count": 1,
     "metadata": {},
     "output_type": "execute_result"
    }
   ],
   "source": [
    "set1 = {\"pop\", \"rock\", \"soul\", \"hard rock\", \"rock\", \"R&B\", \"rock\", \"disco\"}\n",
    "set1"
   ]
  },
  {
   "cell_type": "markdown",
   "id": "72f46394",
   "metadata": {},
   "source": [
    "You can also convert a list into set:"
   ]
  },
  {
   "cell_type": "code",
   "execution_count": 2,
   "id": "8d217a45",
   "metadata": {},
   "outputs": [
    {
     "data": {
      "text/plain": [
       "{'00:42:19',\n",
       " 10.0,\n",
       " 1982,\n",
       " '30-Nov-82',\n",
       " 46.0,\n",
       " 65,\n",
       " 'Michael Jackson',\n",
       " None,\n",
       " 'Pop, Rock, R&B',\n",
       " 'Thriller'}"
      ]
     },
     "execution_count": 2,
     "metadata": {},
     "output_type": "execute_result"
    }
   ],
   "source": [
    "album_list = [ \"Michael Jackson\", \"Thriller\", 1982, \"00:42:19\", \\\n",
    "              \"Pop, Rock, R&B\", 46.0, 65, \"30-Nov-82\", None, 10.0]\n",
    "album_set = set(album_list)             \n",
    "album_set"
   ]
  },
  {
   "cell_type": "markdown",
   "id": "679792f4",
   "metadata": {},
   "source": [
    "### Set Operations"
   ]
  },
  {
   "cell_type": "markdown",
   "id": "6e3a2b9e",
   "metadata": {},
   "source": [
    "We can add an element to a set using the <code>add()</code> method:"
   ]
  },
  {
   "cell_type": "code",
   "execution_count": 6,
   "id": "2b7cfad4",
   "metadata": {},
   "outputs": [
    {
     "data": {
      "text/plain": [
       "{'AC/DC', 'Back in Black', 'NSYNC', 'Thriller'}"
      ]
     },
     "execution_count": 6,
     "metadata": {},
     "output_type": "execute_result"
    }
   ],
   "source": [
    "A = set([\"Thriller\", \"Back in Black\", \"AC/DC\"])\n",
    "A.add(\"NSYNC\")\n",
    "A"
   ]
  },
  {
   "cell_type": "markdown",
   "id": "f3352ce0",
   "metadata": {},
   "source": [
    "We can remove an item from a set using the <code>remove</code> method:\n"
   ]
  },
  {
   "cell_type": "code",
   "execution_count": 7,
   "id": "f5f22993",
   "metadata": {},
   "outputs": [
    {
     "data": {
      "text/plain": [
       "{'AC/DC', 'Back in Black', 'Thriller'}"
      ]
     },
     "execution_count": 7,
     "metadata": {},
     "output_type": "execute_result"
    }
   ],
   "source": [
    "A.remove(\"NSYNC\")\n",
    "A"
   ]
  },
  {
   "cell_type": "markdown",
   "id": "025ed49a",
   "metadata": {},
   "source": [
    "We can verify if an element is in the set using the <code>in</code> command:\n"
   ]
  },
  {
   "cell_type": "code",
   "execution_count": 8,
   "id": "6b472a0d",
   "metadata": {},
   "outputs": [
    {
     "data": {
      "text/plain": [
       "True"
      ]
     },
     "execution_count": 8,
     "metadata": {},
     "output_type": "execute_result"
    }
   ],
   "source": [
    "\"AC/DC\" in A"
   ]
  },
  {
   "cell_type": "markdown",
   "id": "d6f6dfa5",
   "metadata": {},
   "source": [
    "### Sets Logic Operations\n",
    "Remember that with sets you can check the difference between sets, as well as the symmetric difference, intersection, and union:\n",
    "\n"
   ]
  },
  {
   "cell_type": "markdown",
   "id": "26a03184",
   "metadata": {},
   "source": [
    "You can find the intersect of two sets as follow using <code>&</code>:\n",
    "and alos can be intersection by using <code>intersection</code>"
   ]
  },
  {
   "cell_type": "code",
   "execution_count": 15,
   "id": "4da8cc27",
   "metadata": {},
   "outputs": [
    {
     "name": "stdout",
     "output_type": "stream",
     "text": [
      "{'Back in Black', 'AC/DC'}\n"
     ]
    },
    {
     "data": {
      "text/plain": [
       "{'AC/DC', 'Back in Black'}"
      ]
     },
     "execution_count": 15,
     "metadata": {},
     "output_type": "execute_result"
    }
   ],
   "source": [
    "album_set1 = set([\"Thriller\", 'AC/DC', 'Back in Black'])\n",
    "album_set2 = set([ \"AC/DC\", \"Back in Black\", \"The Dark Side of the Moon\"])\n",
    "intersect = album_set1 & album_set2\n",
    "print(intersect)\n",
    "album_set1.intersection(album_set2)"
   ]
  },
  {
   "cell_type": "markdown",
   "id": "d28c3207",
   "metadata": {},
   "source": [
    "You can find all the elements that are only contained in <code>album_set1</code> using the <code>difference</code> method:\n"
   ]
  },
  {
   "cell_type": "code",
   "execution_count": 13,
   "id": "e4d50fc1",
   "metadata": {},
   "outputs": [
    {
     "data": {
      "text/plain": [
       "{'Thriller'}"
      ]
     },
     "execution_count": 13,
     "metadata": {},
     "output_type": "execute_result"
    }
   ],
   "source": [
    "album_set1.difference(album_set2)"
   ]
  },
  {
   "cell_type": "markdown",
   "id": "1e94f6a6",
   "metadata": {},
   "source": [
    "The union corresponds to all the elements in both sets."
   ]
  },
  {
   "cell_type": "code",
   "execution_count": 16,
   "id": "6af6093d",
   "metadata": {},
   "outputs": [
    {
     "data": {
      "text/plain": [
       "{'AC/DC', 'Back in Black', 'The Dark Side of the Moon', 'Thriller'}"
      ]
     },
     "execution_count": 16,
     "metadata": {},
     "output_type": "execute_result"
    }
   ],
   "source": [
    "album_set1.union(album_set2)"
   ]
  },
  {
   "cell_type": "markdown",
   "id": "18ca46ff",
   "metadata": {},
   "source": [
    "And you can check if a set is a superset or subset of another set, respectively, like this:"
   ]
  },
  {
   "cell_type": "code",
   "execution_count": 19,
   "id": "939dc0d8",
   "metadata": {},
   "outputs": [
    {
     "name": "stdout",
     "output_type": "stream",
     "text": [
      "False\n",
      "False\n"
     ]
    }
   ],
   "source": [
    "print(set(album_set1).issuperset(album_set2) )  \n",
    "print(set(album_set2).issubset(album_set1))  "
   ]
  },
  {
   "cell_type": "code",
   "execution_count": 22,
   "id": "87c64aa9",
   "metadata": {},
   "outputs": [
    {
     "name": "stdout",
     "output_type": "stream",
     "text": [
      "True\n"
     ]
    }
   ],
   "source": [
    "print(album_set1.issuperset({\"Back in Black\", \"AC/DC\"}))"
   ]
  }
 ],
 "metadata": {
  "kernelspec": {
   "display_name": ".venv",
   "language": "python",
   "name": "python3"
  },
  "language_info": {
   "codemirror_mode": {
    "name": "ipython",
    "version": 3
   },
   "file_extension": ".py",
   "mimetype": "text/x-python",
   "name": "python",
   "nbconvert_exporter": "python",
   "pygments_lexer": "ipython3",
   "version": "3.13.5"
  }
 },
 "nbformat": 4,
 "nbformat_minor": 5
}
