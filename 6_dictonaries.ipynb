{
 "cells": [
  {
   "cell_type": "markdown",
   "id": "a4da081d",
   "metadata": {},
   "source": [
    "# Dictionaries\n",
    "A dictonary consists of keys and values. It helpful to compare a dictonary to a list. Instead of being indexed numerically as list, dictionaries have keys. These keys are the keys that are used to acess the values within a dictionary.\n",
    "The best example of a dictionary can be acessing a person's details with his social security number. Here is the social security number which is a unique number is use as key and the details of the people will be the values associate with it. "
   ]
  },
  {
   "cell_type": "markdown",
   "id": "94ceefaf",
   "metadata": {},
   "source": []
  }
 ],
 "metadata": {
  "language_info": {
   "name": "python"
  }
 },
 "nbformat": 4,
 "nbformat_minor": 5
}
