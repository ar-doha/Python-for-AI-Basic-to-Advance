{
 "cells": [
  {
   "cell_type": "markdown",
   "id": "a4da081d",
   "metadata": {},
   "source": [
    "# Dictionaries\n",
    "A dictonary consists of keys and values. It helpful to compare a dictonary to a list. Instead of being indexed numerically as list, dictionaries have keys. These keys are the keys that are used to acess the values within a dictionary.\n",
    "The best example of a dictionary can be acessing a person's details with his social security number. Here is the social security number which is a unique number is use as key and the details of the people will be the values associate with it. "
   ]
  },
  {
   "cell_type": "markdown",
   "id": "94ceefaf",
   "metadata": {},
   "source": [
    "### Create a dictionary and access the elements\n",
    "An example of a Dictionary Dict: Here we are creating a dictionary named Dict with he following details\n",
    "\n",
    "Keys are key1, key2, key3, key4, key5, (0,1).\n",
    "Values are {1,2,[3,3,3],(4,4,4),5,6} corresponding to the keys\n",
    "\n",
    "Each key is separated from its value by a colon \":\". Commas separate the items, and the whole dictionary is enclosed in curly braces. An empty dictionary without any items is written with just two curly braces, like this \"{}\"."
   ]
  },
  {
   "cell_type": "code",
   "execution_count": 1,
   "id": "977fd113",
   "metadata": {},
   "outputs": [
    {
     "data": {
      "text/plain": [
       "{'Key1': 1,\n",
       " 'Key2': 2,\n",
       " 'Key3': [3, 3, 3],\n",
       " 'Key4': (4, 4, 4),\n",
       " 'Key5': 5,\n",
       " (0, 1): 6}"
      ]
     },
     "execution_count": 1,
     "metadata": {},
     "output_type": "execute_result"
    }
   ],
   "source": [
    "Dict={\"Key1\":1, \"Key2\":2, \"Key3\":[3,3,3], \"Key4\":(4,4,4), \"Key5\":5, (0,1):6}\n",
    "Dict"
   ]
  },
  {
   "cell_type": "markdown",
   "id": "08956498",
   "metadata": {},
   "source": [
    "In summary, like a list, a dictionary holds a sequence of elements. Each element is represented by a key and its corresponding value. Dictionaries are created with two curly braces containing keys and values separated by a colon. For every key, there can only be one single value, however,  multiple keys can hold the same value. Keys can only be strings, numbers, or tuples, but values can be any data type.\n",
    "\n",
    "It is helpful to visualize the dictionary as a table, as in the following code. The keys represents the first coloumn, the second column represents the values."
   ]
  },
  {
   "cell_type": "code",
   "execution_count": 22,
   "id": "abf53663",
   "metadata": {},
   "outputs": [
    {
     "data": {
      "text/plain": [
       "{'Thriller': '1982',\n",
       " 'Back in Black': '1980',\n",
       " 'The Dark Side of the Moon': '1973',\n",
       " 'The Bodyguard': '1992',\n",
       " 'Bat Out of Hell': '1977',\n",
       " 'Their Greatest Hits (1971-1975)': '1976',\n",
       " 'Saturday Night Fever': '1977',\n",
       " 'Rumours': '1977'}"
      ]
     },
     "execution_count": 22,
     "metadata": {},
     "output_type": "execute_result"
    }
   ],
   "source": [
    "release_year_dict = {\"Thriller\": \"1982\", \"Back in Black\": \"1980\", \\\n",
    "                    \"The Dark Side of the Moon\": \"1973\", \"The Bodyguard\": \"1992\", \\\n",
    "                    \"Bat Out of Hell\": \"1977\", \"Their Greatest Hits (1971-1975)\": \"1976\", \\\n",
    "                    \"Saturday Night Fever\": \"1977\", \"Rumours\": \"1977\"}\n",
    "release_year_dict"
   ]
  },
  {
   "cell_type": "markdown",
   "id": "a8f055d8",
   "metadata": {},
   "source": [
    "### Keys\n",
    "You can retrieve the values based on the key names:"
   ]
  },
  {
   "cell_type": "code",
   "execution_count": 23,
   "id": "4ce677d0",
   "metadata": {},
   "outputs": [
    {
     "data": {
      "text/plain": [
       "'1982'"
      ]
     },
     "execution_count": 23,
     "metadata": {},
     "output_type": "execute_result"
    }
   ],
   "source": [
    "release_year_dict[\"Thriller\"]"
   ]
  },
  {
   "cell_type": "markdown",
   "id": "7439e8dc",
   "metadata": {},
   "source": [
    "Now let us retrieve the keys of the dictionary using the method <code>keys()</code>:\n"
   ]
  },
  {
   "cell_type": "code",
   "execution_count": 24,
   "id": "2771b787",
   "metadata": {},
   "outputs": [
    {
     "data": {
      "text/plain": [
       "dict_keys(['Thriller', 'Back in Black', 'The Dark Side of the Moon', 'The Bodyguard', 'Bat Out of Hell', 'Their Greatest Hits (1971-1975)', 'Saturday Night Fever', 'Rumours'])"
      ]
     },
     "execution_count": 24,
     "metadata": {},
     "output_type": "execute_result"
    }
   ],
   "source": [
    "release_year_dict.keys()"
   ]
  },
  {
   "cell_type": "markdown",
   "id": "fc9df866",
   "metadata": {},
   "source": [
    "You can retrieve the values using the method  <code>values()</code>:\n"
   ]
  },
  {
   "cell_type": "code",
   "execution_count": 25,
   "id": "a905260d",
   "metadata": {},
   "outputs": [
    {
     "data": {
      "text/plain": [
       "dict_values(['1982', '1980', '1973', '1992', '1977', '1976', '1977', '1977'])"
      ]
     },
     "execution_count": 25,
     "metadata": {},
     "output_type": "execute_result"
    }
   ],
   "source": [
    "release_year_dict.values()"
   ]
  },
  {
   "cell_type": "markdown",
   "id": "37913aba",
   "metadata": {},
   "source": [
    "We can add an entry:"
   ]
  },
  {
   "cell_type": "code",
   "execution_count": 26,
   "id": "6facd1ce",
   "metadata": {},
   "outputs": [
    {
     "data": {
      "text/plain": [
       "{'Thriller': '1982',\n",
       " 'Back in Black': '1980',\n",
       " 'The Dark Side of the Moon': '1973',\n",
       " 'The Bodyguard': '1992',\n",
       " 'Bat Out of Hell': '1977',\n",
       " 'Their Greatest Hits (1971-1975)': '1976',\n",
       " 'Saturday Night Fever': '1977',\n",
       " 'Rumours': '1977',\n",
       " 'The Graduation': '2007'}"
      ]
     },
     "execution_count": 26,
     "metadata": {},
     "output_type": "execute_result"
    }
   ],
   "source": [
    "release_year_dict[\"The Graduation\"] = \"2007\"\n",
    "release_year_dict"
   ]
  },
  {
   "cell_type": "markdown",
   "id": "b5a35969",
   "metadata": {},
   "source": [
    "We can delete an entry:"
   ]
  },
  {
   "cell_type": "code",
   "execution_count": 27,
   "id": "2ac0b281",
   "metadata": {},
   "outputs": [
    {
     "data": {
      "text/plain": [
       "{'Thriller': '1982',\n",
       " 'The Dark Side of the Moon': '1973',\n",
       " 'The Bodyguard': '1992',\n",
       " 'Bat Out of Hell': '1977',\n",
       " 'Saturday Night Fever': '1977',\n",
       " 'Rumours': '1977',\n",
       " 'The Graduation': '2007'}"
      ]
     },
     "execution_count": 27,
     "metadata": {},
     "output_type": "execute_result"
    }
   ],
   "source": [
    "del(release_year_dict['Their Greatest Hits (1971-1975)'])\n",
    "del(release_year_dict['Back in Black'])\n",
    "release_year_dict"
   ]
  },
  {
   "cell_type": "markdown",
   "id": "c22cb87b",
   "metadata": {},
   "source": [
    "We can verify if an element is in the dictionary:"
   ]
  },
  {
   "cell_type": "code",
   "execution_count": 28,
   "id": "2979293c",
   "metadata": {},
   "outputs": [
    {
     "data": {
      "text/plain": [
       "True"
      ]
     },
     "execution_count": 28,
     "metadata": {},
     "output_type": "execute_result"
    }
   ],
   "source": [
    "'The Bodyguard' in release_year_dict"
   ]
  }
 ],
 "metadata": {
  "kernelspec": {
   "display_name": ".venv",
   "language": "python",
   "name": "python3"
  },
  "language_info": {
   "codemirror_mode": {
    "name": "ipython",
    "version": 3
   },
   "file_extension": ".py",
   "mimetype": "text/x-python",
   "name": "python",
   "nbconvert_exporter": "python",
   "pygments_lexer": "ipython3",
   "version": "3.13.5"
  }
 },
 "nbformat": 4,
 "nbformat_minor": 5
}
