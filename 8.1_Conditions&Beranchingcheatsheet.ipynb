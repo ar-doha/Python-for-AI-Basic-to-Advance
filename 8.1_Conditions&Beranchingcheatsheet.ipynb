{
 "cells": [
  {
   "cell_type": "markdown",
   "id": "0c21890d",
   "metadata": {},
   "source": [
    "## Comparison Operations\n",
    "Comparison operations are essential in programming. They help compare values and make decisions based on the results.\n",
    "\n"
   ]
  },
  {
   "cell_type": "markdown",
   "id": "f9198384",
   "metadata": {},
   "source": [
    "### Equality operator\n",
    "The equality operator == checks if two values are equal. For example, in Python:"
   ]
  },
  {
   "cell_type": "code",
   "execution_count": 1,
   "id": "693dbe56",
   "metadata": {},
   "outputs": [
    {
     "name": "stdout",
     "output_type": "stream",
     "text": [
      "You are 25 years old.\n"
     ]
    }
   ],
   "source": [
    "age = 25\n",
    "if age == 25:\n",
    "    print(\"You are 25 years old.\")"
   ]
  },
  {
   "cell_type": "markdown",
   "id": "0f02ec54",
   "metadata": {},
   "source": []
  },
  {
   "cell_type": "markdown",
   "id": "96099414",
   "metadata": {},
   "source": []
  }
 ],
 "metadata": {
  "kernelspec": {
   "display_name": ".venv",
   "language": "python",
   "name": "python3"
  },
  "language_info": {
   "codemirror_mode": {
    "name": "ipython",
    "version": 3
   },
   "file_extension": ".py",
   "mimetype": "text/x-python",
   "name": "python",
   "nbconvert_exporter": "python",
   "pygments_lexer": "ipython3",
   "version": "3.13.5"
  }
 },
 "nbformat": 4,
 "nbformat_minor": 5
}
