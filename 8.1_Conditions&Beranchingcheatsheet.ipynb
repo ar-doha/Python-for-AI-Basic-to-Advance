{
 "cells": [
  {
   "cell_type": "markdown",
   "id": "0c21890d",
   "metadata": {},
   "source": [
    "## Comparison Operations\n",
    "Comparison operations are essential in programming. They help compare values and make decisions based on the results.\n",
    "\n"
   ]
  },
  {
   "cell_type": "markdown",
   "id": "f9198384",
   "metadata": {},
   "source": [
    "### Equality operator\n",
    "The equality operator == checks if two values are equal. For example, in Python:\n",
    "\n",
    "Here, the code checks if the variable age is equal to 25 and prints a message accordingly.\n",
    "\n"
   ]
  },
  {
   "cell_type": "code",
   "execution_count": 1,
   "id": "693dbe56",
   "metadata": {},
   "outputs": [
    {
     "name": "stdout",
     "output_type": "stream",
     "text": [
      "You are 25 years old.\n"
     ]
    }
   ],
   "source": [
    "age = 25\n",
    "if age == 25:\n",
    "    print(\"You are 25 years old.\")"
   ]
  },
  {
   "cell_type": "markdown",
   "id": "0f02ec54",
   "metadata": {},
   "source": [
    "### Inequality operator\n",
    "The inequality operator != checks if two values are not equal:\n",
    "\n",
    "Here, the code checks if the variable age is not equal to 30 and prints a message accordingly."
   ]
  },
  {
   "cell_type": "code",
   "execution_count": 2,
   "id": "0311c63e",
   "metadata": {},
   "outputs": [
    {
     "name": "stdout",
     "output_type": "stream",
     "text": [
      "You are not 30 years old.\n"
     ]
    }
   ],
   "source": [
    "if age != 30:\n",
    "    print(\"You are not 30 years old.\")"
   ]
  },
  {
   "cell_type": "markdown",
   "id": "f8c25c93",
   "metadata": {},
   "source": [
    "### Greater than and less than\n",
    "You can also compare if one value is greater than another.\n",
    "\n",
    "Here, the code checks if the variable age is greater than or equal to 20 and prints a message accordingly."
   ]
  },
  {
   "cell_type": "code",
   "execution_count": 4,
   "id": "8a0a8662",
   "metadata": {},
   "outputs": [
    {
     "name": "stdout",
     "output_type": "stream",
     "text": [
      "Yes, the Age is greater than 20\n"
     ]
    }
   ],
   "source": [
    "if age>= 20:\n",
    "    print(\"Yes, the Age is greater than 20\")"
   ]
  },
  {
   "cell_type": "markdown",
   "id": "1aafd629",
   "metadata": {},
   "source": [
    "## Branching\n",
    "Branching is like making decisions in your program based on conditions. Think of it as real-life choices."
   ]
  },
  {
   "cell_type": "markdown",
   "id": "5bc80ace",
   "metadata": {},
   "source": [
    "### The If Statement\n",
    "\n",
    "Consider a real-life scenario of entering a bar. If you're above a certain age, you can enter; otherwise, you cannot.\n",
    "\n",
    "Here, you are using the if statement to make a decision based on the age variable."
   ]
  },
  {
   "cell_type": "code",
   "execution_count": 5,
   "id": "1c434df5",
   "metadata": {},
   "outputs": [
    {
     "name": "stdout",
     "output_type": "stream",
     "text": [
      "Sorry, you cannot enter.\n"
     ]
    }
   ],
   "source": [
    "age = 20\n",
    "if age >= 21:\n",
    "    print(\"You can enter the bar.\")\n",
    "else:\n",
    "    print(\"Sorry, you cannot enter.\")"
   ]
  },
  {
   "cell_type": "markdown",
   "id": "64129035",
   "metadata": {},
   "source": [
    "### The ELIF Statement\n",
    "Sometimes, there are multiple conditions to check. For example, if you're not old enough for the bar, you can go to a movie instead."
   ]
  },
  {
   "cell_type": "code",
   "execution_count": 7,
   "id": "5c2cdcd2",
   "metadata": {},
   "outputs": [
    {
     "name": "stdout",
     "output_type": "stream",
     "text": [
      "You can watch a movie.\n"
     ]
    }
   ],
   "source": [
    "if age >= 21:\n",
    "    print(\"You can enter the bar.\")\n",
    "elif age >= 18:\n",
    "    print(\"You can watch a movie.\")\n",
    "else:\n",
    "    print(\"Sorry, you cannot do either.\")\n"
   ]
  },
  {
   "cell_type": "markdown",
   "id": "5b87c87e",
   "metadata": {},
   "source": [
    "**Real-life example: Automated Teller Machine (ATM)**\n",
    "\n",
    "When a user interacts with an ATM, the software in the ATM can use branching to make decisions based on the user's input. For example, if the user selects \"Withdraw Cash\" the ATM can branch into different denominations of bills to dispense based on the amount requested."
   ]
  },
  {
   "cell_type": "code",
   "execution_count": 9,
   "id": "e45b75f0",
   "metadata": {},
   "outputs": [
    {
     "name": "stdout",
     "output_type": "stream",
     "text": [
      "please enter a multiple of 10\n"
     ]
    }
   ],
   "source": [
    "user_choice = \"Withdraw Cash\"\n",
    "if(user_choice == \"Withdraw Cash\"):\n",
    "    ammount = int(input(\"enter the amount to withdraw\"))\n",
    "    if(ammount % 10 == 0):\n",
    "        print(\"Ammount dispense: \", ammount)\n",
    "    else:\n",
    "        print(\"please enter a multiple of 10\")\n",
    "else:\n",
    "    print(\"Thank you for the using ATM\")"
   ]
  },
  {
   "cell_type": "markdown",
   "id": "96099414",
   "metadata": {},
   "source": [
    "## Logica Operators\n",
    "Logical operators help combine and manipulate conditions."
   ]
  },
  {
   "cell_type": "markdown",
   "id": "d09d70b8",
   "metadata": {},
   "source": [
    "### The NOT Operator\n",
    "In a smartphone's notification settings, you can use the NOT operator to control when to send notifications. For example, you might only want to receive notifications when your phone is not in \"Do Not Disturb\" mode.\n",
    "\n",
    "The not operator negates a condition."
   ]
  },
  {
   "cell_type": "code",
   "execution_count": 11,
   "id": "edc060bb",
   "metadata": {},
   "outputs": [
    {
     "name": "stdout",
     "output_type": "stream",
     "text": [
      "You are on DND Mode\n"
     ]
    }
   ],
   "source": [
    "is_dont_disturb = True\n",
    "if not is_dont_disturb:\n",
    "    print(\"You recieved a new Message\")\n",
    "else:\n",
    "    print(\"You are on DND Mode\")"
   ]
  },
  {
   "cell_type": "markdown",
   "id": "b11c9c3f",
   "metadata": {},
   "source": [
    "### The AND Operator\n",
    "In a secure facility, you can use the AND operator to check multiple conditions for access. To open a high-security door, a person might need both a valid ID card and a matching fingerprint.\n",
    "\n",
    "The AND operator checks if all required conditions are true, like needing both keys to open a safe."
   ]
  },
  {
   "cell_type": "code",
   "execution_count": 13,
   "id": "d205057d",
   "metadata": {},
   "outputs": [
    {
     "name": "stdout",
     "output_type": "stream",
     "text": [
      "You have granted acess!!\n"
     ]
    }
   ],
   "source": [
    "has_valid_idcard = True\n",
    "has_valid_fingerprint = True\n",
    "if has_valid_idcard and has_valid_fingerprint:\n",
    "    print(\"You have granted acess!!\")\n",
    "else:\n",
    "    print(\"Access Denied\")"
   ]
  },
  {
   "cell_type": "markdown",
   "id": "4356ac1a",
   "metadata": {},
   "source": [
    "### The OR Operator\n",
    "When planning a movie night with friends, you can use the OR operator to decide on a movie genre. You'll choose a movie if at least one person is interested.\n",
    "\n",
    "The OR operator checks if at least one condition is true. It's like choosing between different movies to watch."
   ]
  },
  {
   "cell_type": "code",
   "execution_count": null,
   "id": "728a0fee",
   "metadata": {},
   "outputs": [
    {
     "name": "stdout",
     "output_type": "stream",
     "text": [
      "\n"
     ]
    }
   ],
   "source": [
    "friends1_like_comedy = True\n",
    "friends2_like_action = False\n",
    "friends3_like_romance = False\n",
    "if friends1_like_comedy or friends2_like_action or friends3_like_romance:\n",
    "    print()"
   ]
  }
 ],
 "metadata": {
  "kernelspec": {
   "display_name": ".venv",
   "language": "python",
   "name": "python3"
  },
  "language_info": {
   "codemirror_mode": {
    "name": "ipython",
    "version": 3
   },
   "file_extension": ".py",
   "mimetype": "text/x-python",
   "name": "python",
   "nbconvert_exporter": "python",
   "pygments_lexer": "ipython3",
   "version": "3.13.5"
  }
 },
 "nbformat": 4,
 "nbformat_minor": 5
}
