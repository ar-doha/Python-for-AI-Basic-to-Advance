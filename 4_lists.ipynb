{
 "cells": [
  {
   "cell_type": "markdown",
   "id": "2bb40737",
   "metadata": {},
   "source": [
    "# Index\n",
    "A list is a sequenced collection of different objects such as integers, strings, and even other lists as well. The address of each element within a list is called an index. An index is used to access and refer to items within a list."
   ]
  },
  {
   "cell_type": "markdown",
   "id": "d130fdd4",
   "metadata": {},
   "source": []
  }
 ],
 "metadata": {
  "kernelspec": {
   "display_name": ".venv",
   "language": "python",
   "name": "python3"
  },
  "language_info": {
   "name": "python",
   "version": "3.13.5"
  }
 },
 "nbformat": 4,
 "nbformat_minor": 5
}
