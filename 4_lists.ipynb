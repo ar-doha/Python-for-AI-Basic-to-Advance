{
 "cells": [
  {
   "cell_type": "markdown",
   "id": "2bb40737",
   "metadata": {},
   "source": [
    "# List & Index\n",
    "A list is a sequenced collection of different objects such as integers, strings, and even other lists as well. The address of each element within a list is called an <b>index</b>. An <b>index</b> is used to access and refer to items within a list.\n",
    "To create a list, type the list within square brackets <b>\\[ ]</b>, with your content inside the parenthesis and separated by commas. Let us try it!\n"
   ]
  },
  {
   "cell_type": "code",
   "execution_count": 11,
   "id": "d130fdd4",
   "metadata": {},
   "outputs": [
    {
     "name": "stdout",
     "output_type": "stream",
     "text": [
      "['The Bodyguard', 7.0, 1992]\n",
      "1992\n"
     ]
    }
   ],
   "source": [
    "# Create a list\n",
    "\n",
    "L = [\"The Bodyguard\", 7.0, 1992]\n",
    "print(L)\n",
    "print(L[2])"
   ]
  },
  {
   "cell_type": "markdown",
   "id": "2e705536",
   "metadata": {},
   "source": [
    "We can use negative and regular indexing with a list:"
   ]
  },
  {
   "cell_type": "code",
   "execution_count": 2,
   "id": "97b04ec8",
   "metadata": {},
   "outputs": [
    {
     "name": "stdout",
     "output_type": "stream",
     "text": [
      "the same element using negative and positive indexing:\n",
      " Postive: The Bodyguard \n",
      " Negative: The Bodyguard\n",
      "the same element using negative and positive indexing:\n",
      " Postive: 7.0 \n",
      " Negative: 7.0\n",
      "the same element using negative and positive indexing:\n",
      " Postive: 1992 \n",
      " Negative: 1992\n"
     ]
    }
   ],
   "source": [
    "# Print the elements on each index\n",
    "\n",
    "print('the same element using negative and positive indexing:\\n Postive:',L[0],\n",
    "'\\n Negative:' , L[-3]  )\n",
    "print('the same element using negative and positive indexing:\\n Postive:',L[1],\n",
    "'\\n Negative:' , L[-2]  )\n",
    "print('the same element using negative and positive indexing:\\n Postive:',L[2],\n",
    "'\\n Negative:' , L[-1]  )"
   ]
  },
  {
   "cell_type": "markdown",
   "id": "3cd6e37d",
   "metadata": {},
   "source": [
    "# List Operations\n",
    "\n",
    "We can also perform slicing in lists. For example, if we want the last two elements, we use the following command:"
   ]
  },
  {
   "cell_type": "code",
   "execution_count": 6,
   "id": "9d30a82c",
   "metadata": {},
   "outputs": [
    {
     "data": {
      "text/plain": [
       "[7.0, 1992]"
      ]
     },
     "execution_count": 6,
     "metadata": {},
     "output_type": "execute_result"
    }
   ],
   "source": [
    "# List slicing\n",
    "\n",
    "L[1:3]"
   ]
  },
  {
   "cell_type": "markdown",
   "id": "29b1e6c3",
   "metadata": {},
   "source": [
    "We can use the method <code>extend</code> to add new elements to the list:"
   ]
  },
  {
   "cell_type": "code",
   "execution_count": 7,
   "id": "8658efa3",
   "metadata": {},
   "outputs": [
    {
     "data": {
      "text/plain": [
       "['The Bodyguard', 7.0, 'pop', 10]"
      ]
     },
     "execution_count": 7,
     "metadata": {},
     "output_type": "execute_result"
    }
   ],
   "source": [
    "# Use extend to add elements to list\n",
    "\n",
    "L = [ \"The Bodyguard\", 7.0]\n",
    "L.extend(['pop', 10])\n",
    "L"
   ]
  },
  {
   "cell_type": "markdown",
   "id": "8f3d53b2",
   "metadata": {},
   "source": [
    "Another similar method is <code>append</code>. If we apply <code>append</code> instead of <code>extend</code>, we add one element to the list:\n"
   ]
  },
  {
   "cell_type": "code",
   "execution_count": 12,
   "id": "63d9df46",
   "metadata": {},
   "outputs": [
    {
     "data": {
      "text/plain": [
       "['The Bodyguard', 7.0, ['pop', 10]]"
      ]
     },
     "execution_count": 12,
     "metadata": {},
     "output_type": "execute_result"
    }
   ],
   "source": [
    "# Use append to add elements to list\n",
    "\n",
    "L = [ \"The Bodyguard\", 7.0]\n",
    "L.append(['pop', 10])\n",
    "L"
   ]
  },
  {
   "cell_type": "markdown",
   "id": "ea49280c",
   "metadata": {},
   "source": [
    "As lists are mutable, we can change them. For example, we can change the first element as follows:"
   ]
  },
  {
   "cell_type": "code",
   "execution_count": 13,
   "id": "ab6f17cf",
   "metadata": {},
   "outputs": [
    {
     "name": "stdout",
     "output_type": "stream",
     "text": [
      "Before change: ['disco', 10, 1.2]\n",
      "After change: ['hard rock', 10, 1.2]\n"
     ]
    }
   ],
   "source": [
    "# Change the element based on the index\n",
    "\n",
    "A = [\"disco\", 10, 1.2]\n",
    "print('Before change:', A)\n",
    "A[0] = 'hard rock'\n",
    "print('After change:', A)"
   ]
  },
  {
   "cell_type": "markdown",
   "id": "145af247",
   "metadata": {},
   "source": [
    "We can also delete an element of a list using the <code>del</code> command:\n"
   ]
  },
  {
   "cell_type": "code",
   "execution_count": 14,
   "id": "fc3e6c57",
   "metadata": {},
   "outputs": [
    {
     "name": "stdout",
     "output_type": "stream",
     "text": [
      "Before change: ['hard rock', 10, 1.2]\n",
      "After change: [10, 1.2]\n"
     ]
    }
   ],
   "source": [
    "# Delete the element based on the index\n",
    "\n",
    "print('Before change:', A)\n",
    "del(A[0])\n",
    "print('After change:', A)"
   ]
  },
  {
   "cell_type": "markdown",
   "id": "3e631a42",
   "metadata": {},
   "source": [
    "We can convert a string to a list using <code>split</code>. The method split translate every group of character sperated by a space into an element in a list"
   ]
  },
  {
   "cell_type": "code",
   "execution_count": 15,
   "id": "6ff5b719",
   "metadata": {},
   "outputs": [
    {
     "data": {
      "text/plain": [
       "['hard', 'rock']"
      ]
     },
     "execution_count": 15,
     "metadata": {},
     "output_type": "execute_result"
    }
   ],
   "source": [
    "# Split the string, default is by space\n",
    "\n",
    "'hard rock'.split()"
   ]
  },
  {
   "cell_type": "markdown",
   "id": "522a27fe",
   "metadata": {},
   "source": [
    "We can use the split function to separate strings on a specific character which we called delimiter. We pass the character we would like to split on into the argument, which in this case is comma. The result is a list, and each elements corresponds to a set of characters that have been seprated by comma:"
   ]
  },
  {
   "cell_type": "code",
   "execution_count": 17,
   "id": "553408c1",
   "metadata": {},
   "outputs": [
    {
     "data": {
      "text/plain": [
       "['A', 'B', 'C', 'D']"
      ]
     },
     "execution_count": 17,
     "metadata": {},
     "output_type": "execute_result"
    }
   ],
   "source": [
    "# Split the string by comma\n",
    "'A,B,C,D'.split(',')"
   ]
  },
  {
   "cell_type": "markdown",
   "id": "5cf512d1",
   "metadata": {},
   "source": [
    "When we set one variable **B** equal to **A**, both **A** and **B** are referencing the same list in memory"
   ]
  },
  {
   "cell_type": "code",
   "execution_count": 23,
   "id": "09df4e21",
   "metadata": {},
   "outputs": [
    {
     "name": "stdout",
     "output_type": "stream",
     "text": [
      "A: ['hard rock', 10, 1.2]\n",
      "B: ['hard rock', 10, 1.2]\n"
     ]
    }
   ],
   "source": [
    "A=[\"hard rock\", 10, 1.2]\n",
    "B=A\n",
    "print (\"A:\",A)\n",
    "print (\"B:\",B)"
   ]
  },
  {
   "cell_type": "markdown",
   "id": "c8499e44",
   "metadata": {},
   "source": [
    "We can clone the list and then if we change the parent list then it will not affect the clone one. Overall if we change **A** then **B** will not change. We can clone list **A** by using following syntax"
   ]
  },
  {
   "cell_type": "code",
   "execution_count": 24,
   "id": "5a805a3b",
   "metadata": {},
   "outputs": [
    {
     "name": "stdout",
     "output_type": "stream",
     "text": [
      "['hard rock', 10, 1.2]\n"
     ]
    }
   ],
   "source": [
    "B: A[:]\n",
    "print (B)"
   ]
  },
  {
   "cell_type": "code",
   "execution_count": null,
   "id": "b8034050",
   "metadata": {},
   "outputs": [],
   "source": []
  }
 ],
 "metadata": {
  "kernelspec": {
   "display_name": ".venv",
   "language": "python",
   "name": "python3"
  },
  "language_info": {
   "codemirror_mode": {
    "name": "ipython",
    "version": 3
   },
   "file_extension": ".py",
   "mimetype": "text/x-python",
   "name": "python",
   "nbconvert_exporter": "python",
   "pygments_lexer": "ipython3",
   "version": "3.13.5"
  }
 },
 "nbformat": 4,
 "nbformat_minor": 5
}
