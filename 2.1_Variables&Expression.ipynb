{
 "cells": [
  {
   "cell_type": "markdown",
   "id": "596a213c",
   "metadata": {},
   "source": [
    "# Expressions and Variables"
   ]
  },
  {
   "cell_type": "markdown",
   "id": "642edeef",
   "metadata": {},
   "source": [
    "### Expressions"
   ]
  },
  {
   "cell_type": "markdown",
   "id": "627dd21b",
   "metadata": {},
   "source": [
    "Expressions in Python can include operations among compatible types (e.g., integers and floats). For example, basic arithmetic operations like adding multiple numbers:"
   ]
  },
  {
   "cell_type": "code",
   "execution_count": 1,
   "id": "57f8b20f",
   "metadata": {},
   "outputs": [
    {
     "data": {
      "text/plain": [
       "160"
      ]
     },
     "execution_count": 1,
     "metadata": {},
     "output_type": "execute_result"
    }
   ],
   "source": [
    "# Addition operation expression\n",
    "\n",
    "43 + 60 + 16 + 41"
   ]
  },
  {
   "cell_type": "markdown",
   "id": "b3142fcb",
   "metadata": {},
   "source": [
    "We can perform subtraction operations using the minus operator. In this case the result is a negative number:"
   ]
  },
  {
   "cell_type": "code",
   "execution_count": 2,
   "id": "594432d7",
   "metadata": {},
   "outputs": [
    {
     "data": {
      "text/plain": [
       "-10"
      ]
     },
     "execution_count": 2,
     "metadata": {},
     "output_type": "execute_result"
    }
   ],
   "source": [
    "# Subtraction operation expression\n",
    "\n",
    "50 - 60"
   ]
  },
  {
   "cell_type": "markdown",
   "id": "11991870",
   "metadata": {},
   "source": [
    "We can do multiplication using an asterisk:"
   ]
  },
  {
   "cell_type": "code",
   "execution_count": 3,
   "id": "78392c62",
   "metadata": {},
   "outputs": [
    {
     "data": {
      "text/plain": [
       "25"
      ]
     },
     "execution_count": 3,
     "metadata": {},
     "output_type": "execute_result"
    }
   ],
   "source": [
    "# Multiplication operation expression\n",
    "\n",
    "5 * 5"
   ]
  },
  {
   "cell_type": "markdown",
   "id": "4707c150",
   "metadata": {},
   "source": [
    "We can also perform division with the forward slash:"
   ]
  },
  {
   "cell_type": "code",
   "execution_count": 4,
   "id": "db11f3cb",
   "metadata": {},
   "outputs": [
    {
     "data": {
      "text/plain": [
       "5.0"
      ]
     },
     "execution_count": 4,
     "metadata": {},
     "output_type": "execute_result"
    }
   ],
   "source": [
    "# Division operation expression\n",
    "\n",
    "25 / 5"
   ]
  },
  {
   "cell_type": "markdown",
   "id": "20808eeb",
   "metadata": {},
   "source": [
    "As seen in the quiz above, we can use the double slash for integer division, where the result is rounded down to the nearest integer:"
   ]
  },
  {
   "cell_type": "code",
   "execution_count": 5,
   "id": "8b6a161d",
   "metadata": {},
   "outputs": [
    {
     "data": {
      "text/plain": [
       "5"
      ]
     },
     "execution_count": 5,
     "metadata": {},
     "output_type": "execute_result"
    }
   ],
   "source": [
    "25 // 5"
   ]
  },
  {
   "cell_type": "markdown",
   "id": "00a994ce",
   "metadata": {},
   "source": [
    "### Variables\n",
    "Just like with most programming languages, we can store values in variables, so we can use them later on. For example:"
   ]
  },
  {
   "cell_type": "code",
   "execution_count": 7,
   "id": "72b05736",
   "metadata": {},
   "outputs": [
    {
     "data": {
      "text/plain": [
       "160"
      ]
     },
     "execution_count": 7,
     "metadata": {},
     "output_type": "execute_result"
    }
   ],
   "source": [
    "# Store value into variable\n",
    "\n",
    "x = 43 + 60 + 16 + 41\n",
    "x"
   ]
  },
  {
   "cell_type": "markdown",
   "id": "20b734c7",
   "metadata": {},
   "source": [
    "We can also perform operations on x and save the result to a new variable:"
   ]
  },
  {
   "cell_type": "code",
   "execution_count": 8,
   "id": "4f75390e",
   "metadata": {},
   "outputs": [
    {
     "data": {
      "text/plain": [
       "2.6666666666666665"
      ]
     },
     "execution_count": 8,
     "metadata": {},
     "output_type": "execute_result"
    }
   ],
   "source": [
    "# Use another variable to store the result of the operation between variable and value\n",
    "\n",
    "y = x / 60\n",
    "y"
   ]
  },
  {
   "cell_type": "markdown",
   "id": "d1ade0d0",
   "metadata": {},
   "source": [
    "If we save a value to an existing variable, the new value will overwrite the previous value:"
   ]
  },
  {
   "cell_type": "code",
   "execution_count": 9,
   "id": "324dbb72",
   "metadata": {},
   "outputs": [
    {
     "data": {
      "text/plain": [
       "2.6666666666666665"
      ]
     },
     "execution_count": 9,
     "metadata": {},
     "output_type": "execute_result"
    }
   ],
   "source": [
    "# Overwrite variable with new value\n",
    "\n",
    "x = x / 60\n",
    "x"
   ]
  },
  {
   "cell_type": "markdown",
   "id": "14d56d7f",
   "metadata": {},
   "source": [
    "It's a good practice to use meaningful variable names, so you and others can read the code and understand it more easily:"
   ]
  },
  {
   "cell_type": "code",
   "execution_count": 10,
   "id": "106cc0a5",
   "metadata": {},
   "outputs": [
    {
     "data": {
      "text/plain": [
       "142"
      ]
     },
     "execution_count": 10,
     "metadata": {},
     "output_type": "execute_result"
    }
   ],
   "source": [
    "# Name the variables meaningfully\n",
    "\n",
    "total_min = 43 + 42 + 57 # Total length of albums in minutes\n",
    "total_min"
   ]
  }
 ],
 "metadata": {
  "kernelspec": {
   "display_name": ".venv",
   "language": "python",
   "name": "python3"
  },
  "language_info": {
   "codemirror_mode": {
    "name": "ipython",
    "version": 3
   },
   "file_extension": ".py",
   "mimetype": "text/x-python",
   "name": "python",
   "nbconvert_exporter": "python",
   "pygments_lexer": "ipython3",
   "version": "3.13.5"
  }
 },
 "nbformat": 4,
 "nbformat_minor": 5
}
