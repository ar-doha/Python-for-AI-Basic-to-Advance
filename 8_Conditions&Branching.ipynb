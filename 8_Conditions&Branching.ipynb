{
 "cells": [
  {
   "cell_type": "markdown",
   "id": "8768e5bb",
   "metadata": {},
   "source": [
    "# Conditions and Branching"
   ]
  },
  {
   "cell_type": "markdown",
   "id": "e8d7adb0",
   "metadata": {},
   "source": [
    "### Condition Statements\n",
    "Comparison operations compare some value or operand and based on a condition, produce a Boolean. When comparing two values you can use these operators:\n",
    "\n",
    "equal: ==\n",
    "not equal: !=\n",
    "greater than: >\n",
    "less than: <\n",
    "greater than or equal to: >=\n",
    "less than or equal to: <="
   ]
  },
  {
   "cell_type": "markdown",
   "id": "ec0f67d3",
   "metadata": {},
   "source": [
    "Let's assign  a  a value of 5. Use the equality operator denoted with two equal == signs to determine if two values are equal. The case below compares the variable a with 6."
   ]
  },
  {
   "cell_type": "code",
   "execution_count": 1,
   "id": "b9a22c8e",
   "metadata": {},
   "outputs": [
    {
     "data": {
      "text/plain": [
       "False"
      ]
     },
     "execution_count": 1,
     "metadata": {},
     "output_type": "execute_result"
    }
   ],
   "source": [
    "a = 5\n",
    "a == 6"
   ]
  },
  {
   "cell_type": "markdown",
   "id": "81bc6e86",
   "metadata": {},
   "source": [
    "The result is False, as 5 does not equal to 6."
   ]
  },
  {
   "cell_type": "markdown",
   "id": "f81b80d4",
   "metadata": {},
   "source": [
    "Consider the following equality comparison operator: i > 5. If the value of the left operand, in this case the variable i, is greater than the value of the right operand, in this case 5, then the statement is True. Otherwise, the statement is False. If i is equal to 6, because 6 is larger than 5, the output is True."
   ]
  },
  {
   "cell_type": "code",
   "execution_count": 2,
   "id": "4e2e3af6",
   "metadata": {},
   "outputs": [
    {
     "data": {
      "text/plain": [
       "True"
      ]
     },
     "execution_count": 2,
     "metadata": {},
     "output_type": "execute_result"
    }
   ],
   "source": [
    "i = 6\n",
    "i > 5"
   ]
  },
  {
   "cell_type": "markdown",
   "id": "91e86228",
   "metadata": {},
   "source": [
    "The inequality test uses an exclamation mark preceding the equal sign, if two operands are not equal then the condition becomes **True**.  For example, the following condition will produce **True** as long as the value of <code>i</code> is not equal to 6:\n"
   ]
  },
  {
   "cell_type": "code",
   "execution_count": 1,
   "id": "2028ca4a",
   "metadata": {},
   "outputs": [
    {
     "data": {
      "text/plain": [
       "True"
      ]
     },
     "execution_count": 1,
     "metadata": {},
     "output_type": "execute_result"
    }
   ],
   "source": [
    "i = 2\n",
    "i != 6"
   ]
  },
  {
   "cell_type": "markdown",
   "id": "9fc19d73",
   "metadata": {},
   "source": []
  }
 ],
 "metadata": {
  "kernelspec": {
   "display_name": ".venv",
   "language": "python",
   "name": "python3"
  },
  "language_info": {
   "codemirror_mode": {
    "name": "ipython",
    "version": 3
   },
   "file_extension": ".py",
   "mimetype": "text/x-python",
   "name": "python",
   "nbconvert_exporter": "python",
   "pygments_lexer": "ipython3",
   "version": "3.13.5"
  }
 },
 "nbformat": 4,
 "nbformat_minor": 5
}
