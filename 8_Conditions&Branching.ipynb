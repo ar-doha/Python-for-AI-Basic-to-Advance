{
 "cells": [
  {
   "cell_type": "markdown",
   "id": "8768e5bb",
   "metadata": {},
   "source": [
    "# Conditions and Branching"
   ]
  },
  {
   "cell_type": "markdown",
   "id": "e8d7adb0",
   "metadata": {},
   "source": [
    "### Condition Statements\n",
    "Comparison operations compare some value or operand and based on a condition, produce a Boolean. When comparing two values you can use these operators:\n",
    "\n",
    "equal: ==\n",
    "not equal: !=\n",
    "greater than: >\n",
    "less than: <\n",
    "greater than or equal to: >=\n",
    "less than or equal to: <="
   ]
  },
  {
   "cell_type": "markdown",
   "id": "ec0f67d3",
   "metadata": {},
   "source": []
  }
 ],
 "metadata": {
  "language_info": {
   "name": "python"
  }
 },
 "nbformat": 4,
 "nbformat_minor": 5
}
