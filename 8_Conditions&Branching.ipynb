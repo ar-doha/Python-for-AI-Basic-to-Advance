{
 "cells": [
  {
   "cell_type": "markdown",
   "id": "8768e5bb",
   "metadata": {},
   "source": [
    "# Conditions and Branching"
   ]
  },
  {
   "cell_type": "markdown",
   "id": "e8d7adb0",
   "metadata": {},
   "source": []
  }
 ],
 "metadata": {
  "language_info": {
   "name": "python"
  }
 },
 "nbformat": 4,
 "nbformat_minor": 5
}
