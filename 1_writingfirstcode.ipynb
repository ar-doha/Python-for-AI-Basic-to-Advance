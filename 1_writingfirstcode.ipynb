{
 "cells": [
  {
   "cell_type": "markdown",
   "id": "2dbd3f63",
   "metadata": {},
   "source": [
    "# Writing Your First Python Code"
   ]
  },
  {
   "cell_type": "markdown",
   "id": "9b02ceba",
   "metadata": {},
   "source": [
    "### Say 'Hello' to the world in Python\n",
    "When learning a new programming language, it is customary to start with an \"hello world\" example. As simple as it is, this one line of code will ensure that we know how to print a string in output and how to execute code within cells in a notebook."
   ]
  },
  {
   "cell_type": "code",
   "execution_count": 1,
   "id": "fcce2d69",
   "metadata": {},
   "outputs": [
    {
     "name": "stdout",
     "output_type": "stream",
     "text": [
      "Hello, Python!\n"
     ]
    }
   ],
   "source": [
    "# Try your first Python output\n",
    "\n",
    "print('Hello, Python!')"
   ]
  },
  {
   "cell_type": "markdown",
   "id": "5b630e60",
   "metadata": {},
   "source": [
    "### What version of Python are we using?\n",
    "Python 2 is no longer in use, as it officially reached end-of-life on January 1, 2020. The Python community and most major libraries have fully adopted Python 3, which is now the standard for all development and learning.\n",
    "\n",
    "How do we know that our notebook is executed by a Python 3 runtime?\n",
    "\n",
    "We can ask Python directly and obtain a detailed answer. Try executing the following code:"
   ]
  },
  {
   "cell_type": "code",
   "execution_count": 2,
   "id": "6d98b87f",
   "metadata": {},
   "outputs": [
    {
     "name": "stdout",
     "output_type": "stream",
     "text": [
      "3.13.5 (main, Jun 11 2025, 15:36:57) [Clang 17.0.0 (clang-1700.0.13.3)]\n"
     ]
    }
   ],
   "source": [
    "import sys\n",
    "print(sys.version)"
   ]
  },
  {
   "cell_type": "markdown",
   "id": "24fbcf04",
   "metadata": {},
   "source": [
    "[Tip:] sys is a built-in module that contains many system-specific parameters and functions, including the Python version in use. Before using it, we must explictly import it."
   ]
  },
  {
   "cell_type": "markdown",
   "id": "7c2b8c11",
   "metadata": {},
   "source": [
    "### Writing comments in Python\n",
    "In addition to writing code, note that it's always a good idea to add comments to your code. It will help others understand what you were trying to accomplish (the reason why you wrote a given snippet of code). Not only does this help other people understand your code, it can also serve as a reminder to you when you come back to it weeks or months later.\n",
    "\n",
    "To write comments in Python, use the number symbol # before writing your comment. When you run your code, Python will ignore everything past the # on a given line."
   ]
  },
  {
   "cell_type": "code",
   "execution_count": 3,
   "id": "49ceb01c",
   "metadata": {},
   "outputs": [
    {
     "name": "stdout",
     "output_type": "stream",
     "text": [
      "Hello, Python!\n"
     ]
    }
   ],
   "source": [
    "print('Hello, Python!') # This line prints a string\n",
    "# print(\"Hi\")"
   ]
  },
  {
   "cell_type": "markdown",
   "id": "2004ce8f",
   "metadata": {},
   "source": [
    "After executing the cell above, you should notice that This line prints a string did not appear in the output, because it was a comment (and thus ignored by Python).\n",
    "\n",
    "The second line was also not executed because print('Hi') was preceded by the number sign (#) as well! Since this isn't an explanatory comment from the programmer, but an actual line of code, we might say that the programmer commented out that second line of code."
   ]
  },
  {
   "cell_type": "markdown",
   "id": "088f5400",
   "metadata": {},
   "source": []
  }
 ],
 "metadata": {
  "kernelspec": {
   "display_name": ".venv",
   "language": "python",
   "name": "python3"
  },
  "language_info": {
   "codemirror_mode": {
    "name": "ipython",
    "version": 3
   },
   "file_extension": ".py",
   "mimetype": "text/x-python",
   "name": "python",
   "nbconvert_exporter": "python",
   "pygments_lexer": "ipython3",
   "version": "3.13.5"
  }
 },
 "nbformat": 4,
 "nbformat_minor": 5
}
