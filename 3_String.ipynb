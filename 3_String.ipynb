{
 "cells": [
  {
   "cell_type": "markdown",
   "id": "99acc5ca",
   "metadata": {},
   "source": [
    "# String\n",
    "The following example shows a string contained within 2 quotation marks:"
   ]
  },
  {
   "cell_type": "code",
   "execution_count": 1,
   "id": "c2e92f1a",
   "metadata": {},
   "outputs": [
    {
     "data": {
      "text/plain": [
       "'The BodyGuard'"
      ]
     },
     "execution_count": 1,
     "metadata": {},
     "output_type": "execute_result"
    }
   ],
   "source": [
    "# Use quotation marks for defining string\n",
    "\n",
    "\"The BodyGuard\""
   ]
  },
  {
   "cell_type": "code",
   "execution_count": null,
   "id": "485bfdb4",
   "metadata": {},
   "outputs": [],
   "source": []
  }
 ],
 "metadata": {
  "kernelspec": {
   "display_name": ".venv",
   "language": "python",
   "name": "python3"
  },
  "language_info": {
   "codemirror_mode": {
    "name": "ipython",
    "version": 3
   },
   "file_extension": ".py",
   "mimetype": "text/x-python",
   "name": "python",
   "nbconvert_exporter": "python",
   "pygments_lexer": "ipython3",
   "version": "3.13.5"
  }
 },
 "nbformat": 4,
 "nbformat_minor": 5
}
