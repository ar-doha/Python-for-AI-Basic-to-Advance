{
 "cells": [
  {
   "cell_type": "markdown",
   "id": "3e565404",
   "metadata": {},
   "source": [
    "# Tuples in Python"
   ]
  },
  {
   "cell_type": "markdown",
   "id": "e67c88d9",
   "metadata": {},
   "source": [
    "All types of data can be contain in tuple and also the types of variable of this is also called Tuple"
   ]
  },
  {
   "cell_type": "code",
   "execution_count": 8,
   "id": "d497f2a5",
   "metadata": {},
   "outputs": [
    {
     "name": "stdout",
     "output_type": "stream",
     "text": [
      "('disco', 10, 1.2)\n"
     ]
    },
    {
     "data": {
      "text/plain": [
       "tuple"
      ]
     },
     "execution_count": 8,
     "metadata": {},
     "output_type": "execute_result"
    }
   ],
   "source": [
    "tuple1= (\"disco\", 10, 1.2)\n",
    "print(tuple1)\n",
    "type(tuple1)"
   ]
  },
  {
   "cell_type": "markdown",
   "id": "673ce6ae",
   "metadata": {},
   "source": [
    "### indexing\n",
    "Here we also can do indexing as like we did in lists"
   ]
  },
  {
   "cell_type": "code",
   "execution_count": 10,
   "id": "78ca4fb3",
   "metadata": {},
   "outputs": [
    {
     "name": "stdout",
     "output_type": "stream",
     "text": [
      "disco\n",
      "10\n",
      "1.2\n"
     ]
    }
   ],
   "source": [
    "print(tuple1[0])\n",
    "print(tuple1[1])\n",
    "print(tuple1[2])"
   ]
  },
  {
   "cell_type": "markdown",
   "id": "c1a29a53",
   "metadata": {},
   "source": [
    "We also can print the type of varaiable inside the tuple"
   ]
  },
  {
   "cell_type": "code",
   "execution_count": 9,
   "id": "f49ad7d7",
   "metadata": {},
   "outputs": [
    {
     "name": "stdout",
     "output_type": "stream",
     "text": [
      "<class 'str'>\n",
      "<class 'int'>\n",
      "<class 'float'>\n"
     ]
    }
   ],
   "source": [
    "print(type(tuple1[0]))\n",
    "print(type(tuple1[1]))\n",
    "print(type(tuple1[2]))"
   ]
  },
  {
   "cell_type": "markdown",
   "id": "2cabaf9d",
   "metadata": {},
   "source": [
    "### Negative Indexing\n",
    "We can also negative indexig here in tuple as like list"
   ]
  },
  {
   "cell_type": "code",
   "execution_count": 11,
   "id": "036ed81c",
   "metadata": {},
   "outputs": [
    {
     "data": {
      "text/plain": [
       "1.2"
      ]
     },
     "execution_count": 11,
     "metadata": {},
     "output_type": "execute_result"
    }
   ],
   "source": [
    "tuple1[-1]"
   ]
  },
  {
   "cell_type": "markdown",
   "id": "182a968e",
   "metadata": {},
   "source": [
    "### Concatenate Tuples"
   ]
  },
  {
   "cell_type": "markdown",
   "id": "85a50cf9",
   "metadata": {},
   "source": [
    "We can concatenate or comnbine the tuples with **+** sign"
   ]
  },
  {
   "cell_type": "code",
   "execution_count": 12,
   "id": "51cec1c2",
   "metadata": {},
   "outputs": [
    {
     "data": {
      "text/plain": [
       "('disco', 10, 1.2, 'hard rock', 10)"
      ]
     },
     "execution_count": 12,
     "metadata": {},
     "output_type": "execute_result"
    }
   ],
   "source": [
    "tuple2 = tuple1 + (\"hard rock\", 10)\n",
    "tuple2"
   ]
  },
  {
   "cell_type": "markdown",
   "id": "86a62e3d",
   "metadata": {},
   "source": [
    "### Slicing\n",
    "We can slice tuples as like list. "
   ]
  },
  {
   "cell_type": "code",
   "execution_count": 13,
   "id": "43428c9c",
   "metadata": {},
   "outputs": [
    {
     "data": {
      "text/plain": [
       "('disco', 10, 1.2)"
      ]
     },
     "execution_count": 13,
     "metadata": {},
     "output_type": "execute_result"
    }
   ],
   "source": [
    "tuple2[0:3]"
   ]
  },
  {
   "cell_type": "markdown",
   "id": "4da9c8e1",
   "metadata": {},
   "source": [
    "### Length\n",
    "We can also obtain length of the tuple by using `len` command. It will show the number of elements in the tuple"
   ]
  },
  {
   "cell_type": "code",
   "execution_count": 14,
   "id": "010e018c",
   "metadata": {},
   "outputs": [
    {
     "data": {
      "text/plain": [
       "5"
      ]
     },
     "execution_count": 14,
     "metadata": {},
     "output_type": "execute_result"
    }
   ],
   "source": [
    "len(tuple2)"
   ]
  },
  {
   "cell_type": "markdown",
   "id": "83ee0906",
   "metadata": {},
   "source": [
    "### Sorting\n",
    "We can sort the value of tuple using `sorted` command"
   ]
  },
  {
   "cell_type": "code",
   "execution_count": 15,
   "id": "07f10f1e",
   "metadata": {},
   "outputs": [
    {
     "name": "stdout",
     "output_type": "stream",
     "text": [
      "Before Sorting:  (0, 4, 9, 2, 3, 7, 8)\n",
      "After Sorting:  [0, 2, 3, 4, 7, 8, 9]\n"
     ]
    }
   ],
   "source": [
    "Rating=(0, 4, 9 ,2 , 3 , 7, 8)\n",
    "print(\"Before Sorting: \", Rating)\n",
    "sorted_rating=sorted(Rating)\n",
    "print(\"After Sorting: \", sorted_rating)"
   ]
  },
  {
   "cell_type": "markdown",
   "id": "f53d373b",
   "metadata": {},
   "source": [
    "### Nested Tuple\n",
    "A tuple can contain another tuple as well as other more complex data types. This process is called 'nesting'. Each elements as like the other tuples inside the tuple can be obtain through indexing"
   ]
  },
  {
   "cell_type": "code",
   "execution_count": 19,
   "id": "401bd330",
   "metadata": {},
   "outputs": [
    {
     "name": "stdout",
     "output_type": "stream",
     "text": [
      "(1, 2, ('Hero', 'Superman', 2), (3, 7))\n",
      "1\n",
      "2\n",
      "('Hero', 'Superman', 2)\n",
      "(3, 7)\n"
     ]
    }
   ],
   "source": [
    "nested_tuple=(1, 2,(\"Hero\", \"Superman\",2), (3,7))\n",
    "print(nested_tuple)\n",
    "print(nested_tuple[0])\n",
    "print(nested_tuple[1])\n",
    "print(nested_tuple[2])\n",
    "print(nested_tuple[3])\n"
   ]
  },
  {
   "cell_type": "markdown",
   "id": "056c698f",
   "metadata": {},
   "source": [
    "We can also access the 2nd index of the 3rd elememt"
   ]
  },
  {
   "cell_type": "code",
   "execution_count": 20,
   "id": "21deb32e",
   "metadata": {},
   "outputs": [
    {
     "name": "stdout",
     "output_type": "stream",
     "text": [
      "Superman\n"
     ]
    }
   ],
   "source": [
    "print(nested_tuple[2][1])"
   ]
  },
  {
   "cell_type": "markdown",
   "id": "06c6de5e",
   "metadata": {},
   "source": [
    "we can even access single index of single letter of specific elements as like we want obtain the superman's **m**. Its like a tree with his branches"
   ]
  },
  {
   "cell_type": "code",
   "execution_count": 21,
   "id": "e37b6d94",
   "metadata": {},
   "outputs": [
    {
     "name": "stdout",
     "output_type": "stream",
     "text": [
      "m\n"
     ]
    }
   ],
   "source": [
    "print(nested_tuple[2][1][5])"
   ]
  },
  {
   "cell_type": "code",
   "execution_count": null,
   "id": "5ef8a5c7",
   "metadata": {},
   "outputs": [],
   "source": []
  }
 ],
 "metadata": {
  "kernelspec": {
   "display_name": ".venv",
   "language": "python",
   "name": "python3"
  },
  "language_info": {
   "codemirror_mode": {
    "name": "ipython",
    "version": 3
   },
   "file_extension": ".py",
   "mimetype": "text/x-python",
   "name": "python",
   "nbconvert_exporter": "python",
   "pygments_lexer": "ipython3",
   "version": "3.13.5"
  }
 },
 "nbformat": 4,
 "nbformat_minor": 5
}
