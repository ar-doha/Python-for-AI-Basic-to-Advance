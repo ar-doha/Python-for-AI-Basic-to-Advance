{
 "cells": [
  {
   "cell_type": "markdown",
   "id": "d199ab69",
   "metadata": {},
   "source": [
    "# List"
   ]
  },
  {
   "cell_type": "markdown",
   "id": "3580d5c2",
   "metadata": {},
   "source": [
    "### append()\n",
    "The `append()` method is used to add an element to the end of a list."
   ]
  },
  {
   "cell_type": "code",
   "execution_count": 2,
   "id": "c055ef86",
   "metadata": {},
   "outputs": [
    {
     "name": "stdout",
     "output_type": "stream",
     "text": [
      "['apple', 'banana', 'orange', 'mango']\n"
     ]
    }
   ],
   "source": [
    "fruits = [\"apple\", \"banana\", \"orange\"] \n",
    "fruits.append(\"mango\") \n",
    "print(fruits)"
   ]
  },
  {
   "cell_type": "markdown",
   "id": "f7e0969e",
   "metadata": {},
   "source": [
    "### copy()\n",
    "The `copy()` method is used to create a shallow copy of a list."
   ]
  },
  {
   "cell_type": "code",
   "execution_count": 7,
   "id": "a00fc423",
   "metadata": {},
   "outputs": [
    {
     "name": "stdout",
     "output_type": "stream",
     "text": [
      "[1, 2, 3, 4, 5]\n"
     ]
    }
   ],
   "source": [
    "my_list = [1, 2, 3, 4, 5] \n",
    "new_list = my_list.copy() \n",
    "print(new_list) "
   ]
  },
  {
   "cell_type": "markdown",
   "id": "4ef13bf8",
   "metadata": {},
   "source": [
    "### count()\n",
    "The `count()` method is used to count the number of occurrences of a specific element in a list in Python."
   ]
  },
  {
   "cell_type": "code",
   "execution_count": 6,
   "id": "afc9fe7f",
   "metadata": {},
   "outputs": [
    {
     "name": "stdout",
     "output_type": "stream",
     "text": [
      "4\n"
     ]
    }
   ],
   "source": [
    "my_list = [1, 2, 2, 3, 4, 2, 5, 2] \n",
    "count = my_list.count(2) \n",
    "print(count) "
   ]
  },
  {
   "cell_type": "markdown",
   "id": "8f1b9877",
   "metadata": {},
   "source": [
    "### Creating a list\n",
    "A list is a built-in data type that represents an ordered and mutable collection of elements. Lists are enclosed in square brackets [] and elements are separated by commas."
   ]
  },
  {
   "cell_type": "code",
   "execution_count": 8,
   "id": "0c8cc4f0",
   "metadata": {},
   "outputs": [
    {
     "data": {
      "text/plain": [
       "['apple', 'banana', 'orange', 'mango']"
      ]
     },
     "execution_count": 8,
     "metadata": {},
     "output_type": "execute_result"
    }
   ],
   "source": [
    "fruits = [\"apple\", \"banana\", \"orange\", \"mango\"]\n",
    "fruits"
   ]
  },
  {
   "cell_type": "markdown",
   "id": "2c7751fc",
   "metadata": {},
   "source": [
    "### del\n",
    "The `del` statement is used to remove an element from list. `del` statement removes the element at the specified index."
   ]
  },
  {
   "cell_type": "code",
   "execution_count": 10,
   "id": "144f01ed",
   "metadata": {},
   "outputs": [
    {
     "data": {
      "text/plain": [
       "[10, 20, 40, 50]"
      ]
     },
     "execution_count": 10,
     "metadata": {},
     "output_type": "execute_result"
    }
   ],
   "source": [
    "my_list = [10, 20, 30, 40, 50] \n",
    "del my_list[2] # Removes the element at index 2 print(my_list) \n",
    "my_list"
   ]
  },
  {
   "cell_type": "markdown",
   "id": "f9356088",
   "metadata": {},
   "source": [
    "### extend()\n",
    "The `extend()` method is used to add multiple elements to a list. It takes an iterable (such as another list, tuple, or string) and appends each element of the iterable to the original list."
   ]
  },
  {
   "cell_type": "code",
   "execution_count": 11,
   "id": "0e41260b",
   "metadata": {},
   "outputs": [
    {
     "name": "stdout",
     "output_type": "stream",
     "text": [
      "['apple', 'banana', 'orange', 'mango', 'grape']\n"
     ]
    }
   ],
   "source": [
    "fruits = [\"apple\", \"banana\", \"orange\"] \n",
    "more_fruits = [\"mango\", \"grape\"] \n",
    "fruits.extend(more_fruits) \n",
    "print(fruits)"
   ]
  },
  {
   "cell_type": "markdown",
   "id": "f1bab6f9",
   "metadata": {},
   "source": [
    "### Indexing\n",
    "Indexing in a list allows you to access individual elements by their position. In Python, indexing starts from 0 for the first element and goes up to `length_of_list - 1`."
   ]
  },
  {
   "cell_type": "markdown",
   "id": "2542fcb2",
   "metadata": {},
   "source": [
    "### insert()\n",
    "The `insert()` method is used to insert an element."
   ]
  },
  {
   "cell_type": "code",
   "execution_count": 12,
   "id": "6704ce4f",
   "metadata": {},
   "outputs": [
    {
     "name": "stdout",
     "output_type": "stream",
     "text": [
      "[1, 2, 6, 3, 4, 5]\n"
     ]
    }
   ],
   "source": [
    "my_list = [1, 2, 3, 4, 5] \n",
    "my_list.insert(2, 6) \n",
    "print(my_list)"
   ]
  },
  {
   "cell_type": "markdown",
   "id": "ec7c7961",
   "metadata": {},
   "source": [
    "### Modifying a list\n",
    "You can use indexing to modify or assign new values to specific elements in the list."
   ]
  },
  {
   "cell_type": "code",
   "execution_count": 13,
   "id": "4a097655",
   "metadata": {},
   "outputs": [
    {
     "name": "stdout",
     "output_type": "stream",
     "text": [
      "[10, 25, 30, 40, 50]\n"
     ]
    }
   ],
   "source": [
    "my_list = [10, 20, 30, 40, 50] \n",
    "my_list[1] = 25 # Modifying the second element \n",
    "print(my_list) "
   ]
  },
  {
   "cell_type": "markdown",
   "id": "7d785f17",
   "metadata": {},
   "source": [
    "### pop()\t\n",
    "`pop()` method is another way to remove an element from a list in Python. It removes and returns the element at the specified index. If you don't provide an index to the `pop()` method, it will remove and return the last element of the list by default"
   ]
  },
  {
   "cell_type": "code",
   "execution_count": 1,
   "id": "66d93490",
   "metadata": {},
   "outputs": [
    {
     "name": "stdout",
     "output_type": "stream",
     "text": [
      "30\n",
      "[10, 20, 40, 50]\n"
     ]
    }
   ],
   "source": [
    "my_list = [10, 20, 30, 40, 50] \n",
    "removed_element = my_list.pop(2) # Removes and returns the element at index 2 \n",
    "print(removed_element) \n",
    "print(my_list) "
   ]
  },
  {
   "cell_type": "markdown",
   "id": "223c9880",
   "metadata": {},
   "source": [
    "### remove()\n",
    "To remove an element from a list. The `remove()` method removes the first occurrence of the specified value."
   ]
  },
  {
   "cell_type": "code",
   "execution_count": 2,
   "id": "c0b75847",
   "metadata": {},
   "outputs": [
    {
     "name": "stdout",
     "output_type": "stream",
     "text": [
      "[10, 20, 40, 50]\n"
     ]
    }
   ],
   "source": [
    "my_list = [10, 20, 30, 40, 50] \n",
    "my_list.remove(30) # Removes the element 30 \n",
    "print(my_list) "
   ]
  },
  {
   "cell_type": "markdown",
   "id": "abe97715",
   "metadata": {},
   "source": [
    "### reverse()\n",
    "The `reverse()` method is used to reverse the order of elements in a list"
   ]
  },
  {
   "cell_type": "code",
   "execution_count": 5,
   "id": "26f07735",
   "metadata": {},
   "outputs": [
    {
     "name": "stdout",
     "output_type": "stream",
     "text": [
      "[5, 4, 3, 2, 1]\n"
     ]
    }
   ],
   "source": [
    "my_list = [1, 2, 3, 4, 5] \n",
    "my_list.reverse() \n",
    "print(my_list)"
   ]
  },
  {
   "cell_type": "markdown",
   "id": "6df4e8cb",
   "metadata": {},
   "source": [
    "### Slicing\n",
    "You can use slicing to access a range of elements from a list."
   ]
  },
  {
   "cell_type": "code",
   "execution_count": 6,
   "id": "32fa3b3f",
   "metadata": {},
   "outputs": [
    {
     "name": "stdout",
     "output_type": "stream",
     "text": [
      "[2, 3, 4]\n",
      "[1, 2, 3]\n",
      "[3, 4, 5]\n",
      "[1, 3, 5]\n"
     ]
    }
   ],
   "source": [
    "my_list = [1, 2, 3, 4, 5] \n",
    "print(my_list[1:4]) \n",
    "# Output: [2, 3, 4] (elements from index 1 to 3)\n",
    "print(my_list[:3]) \n",
    "# Output: [1, 2, 3] (elements from the beginning up to index 2) \n",
    "print(my_list[2:]) \n",
    "# Output: [3, 4, 5] (elements from index 2 to the end) \n",
    "print(my_list[::2]) \n",
    "# Output: [1, 3, 5] (every second element)"
   ]
  },
  {
   "cell_type": "markdown",
   "id": "6f622df0",
   "metadata": {},
   "source": [
    "### sort()\n",
    "The `sort()` method is used to sort the elements of a list in ascending order. If you want to sort the list in descending order, you can pass the `reverse=True` argument to the `sort()` method."
   ]
  },
  {
   "cell_type": "code",
   "execution_count": 7,
   "id": "dd4e0813",
   "metadata": {},
   "outputs": [
    {
     "name": "stdout",
     "output_type": "stream",
     "text": [
      "[9, 8, 5, 2, 1]\n"
     ]
    }
   ],
   "source": [
    "my_list = [5, 2, 8, 1, 9] \n",
    "my_list.sort(reverse=True) \n",
    "print(my_list) \n",
    "# Output: [9, 8, 5, 2, 1]"
   ]
  },
  {
   "cell_type": "markdown",
   "id": "df146052",
   "metadata": {},
   "source": [
    "# Tuple"
   ]
  },
  {
   "cell_type": "markdown",
   "id": "38fadd50",
   "metadata": {},
   "source": [
    "### count()\n",
    "The count() method for a tuple is used to count how many times a specified element appears in the tuple."
   ]
  },
  {
   "cell_type": "code",
   "execution_count": 8,
   "id": "6cd98fac",
   "metadata": {},
   "outputs": [
    {
     "name": "stdout",
     "output_type": "stream",
     "text": [
      "2\n"
     ]
    }
   ],
   "source": [
    "fruits = (\"apple\", \"banana\", \"apple\", \"orange\")\n",
    "print(fruits.count(\"apple\")) #Counts the number of times apple is found in tuple."
   ]
  },
  {
   "cell_type": "markdown",
   "id": "0e73cb5b",
   "metadata": {},
   "source": [
    "### index()\n",
    "The index() method in a tuple is used to find the first occurrence of a specified value and returns its position (index). If the value is not found, it raises a ValueError."
   ]
  },
  {
   "cell_type": "code",
   "execution_count": 9,
   "id": "43d9d310",
   "metadata": {},
   "outputs": [
    {
     "name": "stdout",
     "output_type": "stream",
     "text": [
      "0\n"
     ]
    }
   ],
   "source": [
    "fruits = (\"apple\", \"banana\", \"orange\",\"apple\")\n",
    "print(fruits.index(\"apple\")) #Returns the index value at which apple is present.\n",
    "#Output: 0"
   ]
  },
  {
   "cell_type": "markdown",
   "id": "bb805f21",
   "metadata": {},
   "source": [
    "### sum()\n",
    "The sum() function in Python can be used to calculate the sum of all elements in a tuple, provided that the elements are numeric (integers or floats)."
   ]
  },
  {
   "cell_type": "code",
   "execution_count": 10,
   "id": "05a72841",
   "metadata": {},
   "outputs": [
    {
     "name": "stdout",
     "output_type": "stream",
     "text": [
      "65\n"
     ]
    }
   ],
   "source": [
    "numbers = (10, 20, 5, 30)\n",
    "print(sum(numbers))\n",
    "#Output: 65"
   ]
  },
  {
   "cell_type": "markdown",
   "id": "e2b31d8b",
   "metadata": {},
   "source": [
    "### min() and max()\n",
    "Find the smallest (min()) or largest (max()) element in a tuple."
   ]
  },
  {
   "cell_type": "code",
   "execution_count": 11,
   "id": "2e09ce59",
   "metadata": {},
   "outputs": [
    {
     "name": "stdout",
     "output_type": "stream",
     "text": [
      "5\n",
      "30\n"
     ]
    }
   ],
   "source": [
    "numbers = (10, 20, 5, 30)\n",
    "print(min(numbers))  \n",
    "#Output: 5\n",
    "print(max(numbers))\n",
    "#Output: 30"
   ]
  },
  {
   "cell_type": "markdown",
   "id": "434c5cac",
   "metadata": {},
   "source": [
    "### len()\n",
    "Get the number of elements in the tuple using len()."
   ]
  },
  {
   "cell_type": "code",
   "execution_count": 12,
   "id": "4722e1d7",
   "metadata": {},
   "outputs": [
    {
     "name": "stdout",
     "output_type": "stream",
     "text": [
      "3\n"
     ]
    }
   ],
   "source": [
    "fruits = (\"apple\", \"banana\", \"orange\")\n",
    "print(len(fruits)) #Returns length of the tuple.\n",
    "#Output: 3"
   ]
  }
 ],
 "metadata": {
  "kernelspec": {
   "display_name": ".venv",
   "language": "python",
   "name": "python3"
  },
  "language_info": {
   "codemirror_mode": {
    "name": "ipython",
    "version": 3
   },
   "file_extension": ".py",
   "mimetype": "text/x-python",
   "name": "python",
   "nbconvert_exporter": "python",
   "pygments_lexer": "ipython3",
   "version": "3.13.5"
  }
 },
 "nbformat": 4,
 "nbformat_minor": 5
}
